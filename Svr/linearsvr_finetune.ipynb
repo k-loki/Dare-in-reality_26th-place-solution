{
 "cells": [
  {
   "cell_type": "code",
   "execution_count": 1,
   "metadata": {},
   "outputs": [],
   "source": [
    "import os\n",
    "import sys\n",
    "import warnings\n",
    "from joblib import dump, load\n",
    "\n",
    "import matplotlib.pyplot as plt\n",
    "import numpy as np\n",
    "import pandas as pd\n",
    "import seaborn as sns\n",
    "from sklearn import metrics\n",
    "from sklearn.model_selection import cross_val_score, train_test_split\n",
    "from sklearn.svm import SVR,LinearSVR\n",
    "from sklearn.preprocessing import OneHotEncoder, StandardScaler\n",
    "from sklearn.pipeline import  make_pipeline\n",
    "from sklearn.compose import make_column_transformer\n",
    "from sklearn.model_selection import GridSearchCV,RandomizedSearchCV\n",
    "\n",
    "\n",
    "warnings.filterwarnings('ignore')\n",
    "random_seed = 999\n"
   ]
  },
  {
   "cell_type": "code",
   "execution_count": 2,
   "metadata": {},
   "outputs": [],
   "source": [
    "\n",
    "# load data\n",
    "train_df = pd.read_csv(r'D:\\Envision Racing\\data\\train.csv')\n",
    "test_df = pd.read_csv(r'D:\\Envision Racing\\data\\test.csv')\n"
   ]
  },
  {
   "cell_type": "code",
   "execution_count": 3,
   "metadata": {},
   "outputs": [],
   "source": [
    "# split data in to train and val set\n",
    "X_train,X_val,Y_train,Y_val = train_test_split(train_df.drop(columns=[\"LAP_TIME\"]),\n",
    "                                               train_df[\"LAP_TIME\"],\n",
    "                                               test_size=0.03,\n",
    "                                               random_state=random_seed,\n",
    "                                               stratify=train_df['LOCATION'])\n"
   ]
  },
  {
   "cell_type": "code",
   "execution_count": 4,
   "metadata": {},
   "outputs": [],
   "source": [
    "\n",
    "# modify column names\n",
    "def mod_names(df):\n",
    "    df.columns = df.columns.str.lstrip() \n",
    "    df.columns = df.columns.str.lower()\n",
    "\n",
    "# drop unwanted features\n",
    "def drop_cols(df):\n",
    "    df.drop(columns = {\n",
    "        \"number\",\n",
    "        \"driver_number\",\n",
    "        \"lap_improvement\",\n",
    "        \"s1\",\n",
    "        \"s2\",\n",
    "        \"s3\",\n",
    "        \"s1_improvement\",\n",
    "        \"s2_improvement\",\n",
    "        \"s3_improvement\",\n",
    "        \"crossing_finish_line_in_pit\",\n",
    "        \"pit_time\",\n",
    "        \"group\",\n",
    "        \"team\",\n",
    "        \"power\",\n",
    "        \"kph\",\n",
    "        \"hour\",\n",
    "        \"elapsed\"\n",
    "    },inplace=True)\n",
    "\n",
    "# drop rows with missing values\n",
    "# nan_ft = ['s3_large','s1_large','s2_large']\n",
    "def drop_na_rows(df):\n",
    "    df.fillna(0, inplace=True)\n",
    "    # df.dropna(subset=nan_ft, axis=0, inplace=True)\n",
    "\n",
    "# convert hour feature to seconds\n",
    "def convert_time_to_seconds(x):\n",
    "    if type(x) is (int or float):\n",
    "        return x\n",
    "    else:\n",
    "        min = x.split(\":\")[0]\n",
    "        sec = x.split(\":\")[1]\n",
    "        sec = float(sec)\n",
    "        min = float(min)\n",
    "        sec = sec + (min*60)\n",
    "        return sec\n"
   ]
  },
  {
   "cell_type": "code",
   "execution_count": 5,
   "metadata": {},
   "outputs": [],
   "source": [
    "\n",
    "# cleanse data\n",
    "def cleanse(df):\n",
    "    mod_names(df)\n",
    "    drop_cols(df)\n",
    "    drop_na_rows(df)\n",
    "    df[\"s3_large\"] = df[\"s3_large\"].apply(convert_time_to_seconds)\n",
    "    df[\"s2_large\"] = df[\"s2_large\"].apply(convert_time_to_seconds)\n",
    "    df[\"s1_large\"] = df[\"s1_large\"].apply(convert_time_to_seconds)\n"
   ]
  },
  {
   "cell_type": "code",
   "execution_count": 6,
   "metadata": {},
   "outputs": [],
   "source": [
    "# cleanse(train_df)\n",
    "# cleanse(test_df)\n",
    "\n",
    "cleanse(X_train)\n",
    "cleanse(X_val)"
   ]
  },
  {
   "cell_type": "code",
   "execution_count": 7,
   "metadata": {},
   "outputs": [
    {
     "name": "stdout",
     "output_type": "stream",
     "text": [
      "(9967, 7) (309, 7) (9967,) (309,)\n"
     ]
    }
   ],
   "source": [
    "print(X_train.shape,X_val.shape,Y_train.shape,Y_val.shape)"
   ]
  },
  {
   "cell_type": "code",
   "execution_count": 8,
   "metadata": {},
   "outputs": [],
   "source": [
    "cat_fts = [\"driver_name\",\"location\",\"event\"]\n",
    "num_fts = [\"lap_number\",\"s1_large\",\"s2_large\",\"s3_large\"]\n",
    "\n",
    "ohe = OneHotEncoder(sparse=False)\n",
    "std_scaler = StandardScaler()\n",
    "\n",
    "ct = make_column_transformer(\n",
    "                        (std_scaler, num_fts),\n",
    "                        (ohe, cat_fts),\n",
    "                        remainder='passthrough',\n",
    "                        n_jobs=-1,\n",
    "                        verbose=True)"
   ]
  },
  {
   "cell_type": "code",
   "execution_count": 8,
   "metadata": {},
   "outputs": [],
   "source": [
    "# linsvr = LinearSVR(random_state=random_seed,\n",
    "#                    verbose =1,\n",
    "#                    max_iter = 100000)\n",
    "# linearsvr_pipeline = make_pipeline(ct,linsvr)"
   ]
  },
  {
   "cell_type": "code",
   "execution_count": 22,
   "metadata": {},
   "outputs": [],
   "source": [
    "# params = {\n",
    "#     \"linearsvr__epsilon\": [0.1,0.5,1,2,5,10,20],\n",
    "#     \"linearsvr__C\": [0.1,1, 10],\n",
    "#     \"linearsvr__loss\": [\"epsilon_insensitive\",\"squared_epsilon_insensitive\"],\n",
    "#     \"linearsvr__dual\": [True,False],\n",
    "#     \"linearsvr__tol\": [1e-3,1e-4,1e-5],\n",
    "# }"
   ]
  },
  {
   "cell_type": "code",
   "execution_count": 21,
   "metadata": {},
   "outputs": [
    {
     "data": {
      "text/plain": [
       "dict_keys(['cv', 'error_score', 'estimator__memory', 'estimator__steps', 'estimator__verbose', 'estimator__columntransformer', 'estimator__linearsvr', 'estimator__columntransformer__n_jobs', 'estimator__columntransformer__remainder', 'estimator__columntransformer__sparse_threshold', 'estimator__columntransformer__transformer_weights', 'estimator__columntransformer__transformers', 'estimator__columntransformer__verbose', 'estimator__columntransformer__standardscaler', 'estimator__columntransformer__onehotencoder', 'estimator__columntransformer__standardscaler__copy', 'estimator__columntransformer__standardscaler__with_mean', 'estimator__columntransformer__standardscaler__with_std', 'estimator__columntransformer__onehotencoder__categories', 'estimator__columntransformer__onehotencoder__drop', 'estimator__columntransformer__onehotencoder__dtype', 'estimator__columntransformer__onehotencoder__handle_unknown', 'estimator__columntransformer__onehotencoder__sparse', 'estimator__linearsvr__C', 'estimator__linearsvr__dual', 'estimator__linearsvr__epsilon', 'estimator__linearsvr__fit_intercept', 'estimator__linearsvr__intercept_scaling', 'estimator__linearsvr__loss', 'estimator__linearsvr__max_iter', 'estimator__linearsvr__random_state', 'estimator__linearsvr__tol', 'estimator__linearsvr__verbose', 'estimator', 'n_jobs', 'param_grid', 'pre_dispatch', 'refit', 'return_train_score', 'scoring', 'verbose'])"
      ]
     },
     "execution_count": 21,
     "metadata": {},
     "output_type": "execute_result"
    }
   ],
   "source": [
    "# linsvr_gs.get_params().keys()"
   ]
  },
  {
   "cell_type": "code",
   "execution_count": 23,
   "metadata": {},
   "outputs": [],
   "source": [
    "# linsvr_gs = GridSearchCV(\n",
    "#                         linearsvr_pipeline,\n",
    "#                         cv=5,\n",
    "#                         scoring=\"neg_mean_squared_log_error\",\n",
    "#                         n_jobs=-1,\n",
    "#                         param_grid=params,\n",
    "#                         verbose=1,\n",
    "#                         return_train_score=True,\n",
    "#                     )"
   ]
  },
  {
   "cell_type": "code",
   "execution_count": 24,
   "metadata": {},
   "outputs": [
    {
     "name": "stdout",
     "output_type": "stream",
     "text": [
      "Fitting 5 folds for each of 252 candidates, totalling 1260 fits\n",
      "[LibLinear]===============gs finished=================\n"
     ]
    }
   ],
   "source": [
    "# linsvr_gs.fit(X_train,Y_train)\n",
    "# print('===============gs finished=================')\n",
    "# linsvr_gs_results = pd.DataFrame(linsvr_gs.cv_results_)\n",
    "# linsvr_gs_results.to_csv(r'D:\\Envision Racing\\Svr\\linsvr_gs_results.csv')"
   ]
  },
  {
   "cell_type": "code",
   "execution_count": 25,
   "metadata": {},
   "outputs": [
    {
     "name": "stdout",
     "output_type": "stream",
     "text": [
      "{'linearsvr__C': 1, 'linearsvr__dual': True, 'linearsvr__epsilon': 0.1, 'linearsvr__loss': 'epsilon_insensitive', 'linearsvr__tol': 0.001}\n",
      "-0.3073265719090502\n",
      "Pipeline(steps=[('columntransformer',\n",
      "                 ColumnTransformer(n_jobs=-1, remainder='passthrough',\n",
      "                                   transformers=[('standardscaler',\n",
      "                                                  StandardScaler(),\n",
      "                                                  ['lap_number', 's1_large',\n",
      "                                                   's2_large', 's3_large']),\n",
      "                                                 ('onehotencoder',\n",
      "                                                  OneHotEncoder(sparse=False),\n",
      "                                                  ['driver_name', 'location',\n",
      "                                                   'event'])],\n",
      "                                   verbose=True)),\n",
      "                ('linearsvr',\n",
      "                 LinearSVR(C=1, epsilon=0.1, max_iter=100000, random_state=999,\n",
      "                           tol=0.001, verbose=1))])\n"
     ]
    }
   ],
   "source": [
    "# with open('linear_svr_gridsearch.txt','a+') as f:\n",
    "#     f.write('=================gridsearch finished=================\\n')\n",
    "#     f.write(str(linsvr_gs.best_params_)+'\\n')\n",
    "#     f.write(str(linsvr_gs.best_score_)+'\\n')\n",
    "#     f.write(str(linsvr_gs.best_estimator_)+'\\n')\n",
    "#     f.write('=================gridsearch finished=================\\n')\n",
    "# print(linsvr_gs.best_params_)\n",
    "# print(linsvr_gs.best_score_)\n",
    "# print(linsvr_gs.best_estimator_)"
   ]
  },
  {
   "cell_type": "code",
   "execution_count": 9,
   "metadata": {},
   "outputs": [],
   "source": [
    "params = {'C': 1, 'dual': True, 'epsilon': 0.1, 'loss': 'epsilon_insensitive', 'tol': 0.001}"
   ]
  },
  {
   "cell_type": "code",
   "execution_count": 10,
   "metadata": {},
   "outputs": [],
   "source": [
    "linear_svr = LinearSVR(\n",
    "    C=params['C'],\n",
    "    epsilon=params['epsilon'],\n",
    "    tol=params['tol'],\n",
    "    loss=params['loss'],\n",
    "    dual=params['dual'],\n",
    "    verbose=1,\n",
    "    max_iter=100000,\n",
    "    random_state=random_seed\n",
    ")"
   ]
  },
  {
   "cell_type": "code",
   "execution_count": 11,
   "metadata": {},
   "outputs": [],
   "source": [
    "linear_svr_finetuned_pipeline = make_pipeline(ct,linear_svr)"
   ]
  },
  {
   "cell_type": "code",
   "execution_count": 12,
   "metadata": {},
   "outputs": [
    {
     "name": "stdout",
     "output_type": "stream",
     "text": [
      "[LibLinear]Validation Error: 0.6456068873436835\n"
     ]
    }
   ],
   "source": [
    "linear_svr_finetuned_pipeline.fit(X_train,Y_train)\n",
    "y_preds = linear_svr_finetuned_pipeline.predict(X_val)\n",
    "print('Validation Error:',np.sqrt(metrics.mean_squared_log_error(Y_val,y_preds)))"
   ]
  },
  {
   "cell_type": "code",
   "execution_count": 13,
   "metadata": {},
   "outputs": [
    {
     "data": {
      "text/plain": [
       "['linear_svr_finetuned_pipeline.joblib']"
      ]
     },
     "execution_count": 13,
     "metadata": {},
     "output_type": "execute_result"
    }
   ],
   "source": [
    "dump(linear_svr_finetuned_pipeline,'linear_svr_finetuned_pipeline.joblib')"
   ]
  },
  {
   "cell_type": "code",
   "execution_count": null,
   "metadata": {},
   "outputs": [],
   "source": [
    "# naive_svr_pipeline = load(r'D:\\Envision Racing\\Svr\\naive_svr_ppline.joblib')\n",
    "# naive_svr_pipeline.get_params()\n",
    "# \"\"\"\n",
    "# 'svr__C': 1.0,\n",
    "#  'svr__cache_size': 200,\n",
    "#  'svr__coef0': 0.0,\n",
    "#  'svr__degree': 3,\n",
    "#  'svr__epsilon': 0.1,\n",
    "#  'svr__gamma': 'scale',\n",
    "#  'svr__kernel': 'rbf',\n",
    "#  'svr__max_iter': -1,\n",
    "#  'svr__shrinking': True,\n",
    "#  'svr__tol': 0.001,\n",
    "#  'svr__verbose': True\n",
    "# \"\"\""
   ]
  },
  {
   "cell_type": "code",
   "execution_count": 15,
   "metadata": {},
   "outputs": [],
   "source": [
    "cleanse(test_df)"
   ]
  },
  {
   "cell_type": "code",
   "execution_count": 16,
   "metadata": {},
   "outputs": [],
   "source": [
    "#  make predictions\n",
    "predictor = load('linear_svr_finetuned_pipeline.joblib')                            \n",
    "preds = predictor.predict(test_df.drop(columns=[\"lap_time\"]))                                                                                                                                   \n",
    "\n",
    "submission = pd.read_csv(r'D:\\Envision Racing\\data\\submission.csv')                                                                                                                                                                                                                                                                                     \n",
    "submission['LAP_TIME'] = preds                                                                                                                                                                           \n",
    "submission.to_csv('linear_svr_finetuned_submission_file.csv', index=False)                                                                                                                                                                  "
   ]
  },
  {
   "cell_type": "code",
   "execution_count": 17,
   "metadata": {},
   "outputs": [
    {
     "data": {
      "text/html": [
       "<div>\n",
       "<style scoped>\n",
       "    .dataframe tbody tr th:only-of-type {\n",
       "        vertical-align: middle;\n",
       "    }\n",
       "\n",
       "    .dataframe tbody tr th {\n",
       "        vertical-align: top;\n",
       "    }\n",
       "\n",
       "    .dataframe thead th {\n",
       "        text-align: right;\n",
       "    }\n",
       "</style>\n",
       "<table border=\"1\" class=\"dataframe\">\n",
       "  <thead>\n",
       "    <tr style=\"text-align: right;\">\n",
       "      <th></th>\n",
       "      <th>LAP_TIME</th>\n",
       "    </tr>\n",
       "  </thead>\n",
       "  <tbody>\n",
       "    <tr>\n",
       "      <th>0</th>\n",
       "      <td>91.199936</td>\n",
       "    </tr>\n",
       "    <tr>\n",
       "      <th>1</th>\n",
       "      <td>91.082780</td>\n",
       "    </tr>\n",
       "    <tr>\n",
       "      <th>2</th>\n",
       "      <td>90.914063</td>\n",
       "    </tr>\n",
       "    <tr>\n",
       "      <th>3</th>\n",
       "      <td>91.166867</td>\n",
       "    </tr>\n",
       "    <tr>\n",
       "      <th>4</th>\n",
       "      <td>91.042211</td>\n",
       "    </tr>\n",
       "  </tbody>\n",
       "</table>\n",
       "</div>"
      ],
      "text/plain": [
       "    LAP_TIME\n",
       "0  91.199936\n",
       "1  91.082780\n",
       "2  90.914063\n",
       "3  91.166867\n",
       "4  91.042211"
      ]
     },
     "execution_count": 17,
     "metadata": {},
     "output_type": "execute_result"
    }
   ],
   "source": [
    "submission.head()"
   ]
  },
  {
   "cell_type": "code",
   "execution_count": 38,
   "metadata": {},
   "outputs": [
    {
     "data": {
      "text/html": [
       "<div>\n",
       "<style scoped>\n",
       "    .dataframe tbody tr th:only-of-type {\n",
       "        vertical-align: middle;\n",
       "    }\n",
       "\n",
       "    .dataframe tbody tr th {\n",
       "        vertical-align: top;\n",
       "    }\n",
       "\n",
       "    .dataframe thead th {\n",
       "        text-align: right;\n",
       "    }\n",
       "</style>\n",
       "<table border=\"1\" class=\"dataframe\">\n",
       "  <thead>\n",
       "    <tr style=\"text-align: right;\">\n",
       "      <th></th>\n",
       "      <th>LAP_TIME</th>\n",
       "    </tr>\n",
       "  </thead>\n",
       "  <tbody>\n",
       "    <tr>\n",
       "      <th>count</th>\n",
       "      <td>420.000000</td>\n",
       "    </tr>\n",
       "    <tr>\n",
       "      <th>mean</th>\n",
       "      <td>85.935999</td>\n",
       "    </tr>\n",
       "    <tr>\n",
       "      <th>std</th>\n",
       "      <td>9.734873</td>\n",
       "    </tr>\n",
       "    <tr>\n",
       "      <th>min</th>\n",
       "      <td>67.880315</td>\n",
       "    </tr>\n",
       "    <tr>\n",
       "      <th>25%</th>\n",
       "      <td>71.671951</td>\n",
       "    </tr>\n",
       "    <tr>\n",
       "      <th>50%</th>\n",
       "      <td>91.134917</td>\n",
       "    </tr>\n",
       "    <tr>\n",
       "      <th>75%</th>\n",
       "      <td>92.024341</td>\n",
       "    </tr>\n",
       "    <tr>\n",
       "      <th>max</th>\n",
       "      <td>94.263886</td>\n",
       "    </tr>\n",
       "  </tbody>\n",
       "</table>\n",
       "</div>"
      ],
      "text/plain": [
       "         LAP_TIME\n",
       "count  420.000000\n",
       "mean    85.935999\n",
       "std      9.734873\n",
       "min     67.880315\n",
       "25%     71.671951\n",
       "50%     91.134917\n",
       "75%     92.024341\n",
       "max     94.263886"
      ]
     },
     "execution_count": 38,
     "metadata": {},
     "output_type": "execute_result"
    }
   ],
   "source": [
    "submission.describe()"
   ]
  },
  {
   "cell_type": "code",
   "execution_count": null,
   "metadata": {},
   "outputs": [],
   "source": []
  }
 ],
 "metadata": {
  "interpreter": {
   "hash": "518a807dccee1bb2cf00c0cea9388abbe4210a3c385c01718c979ef7759eaf87"
  },
  "kernelspec": {
   "display_name": "Python 3.9.5 64-bit",
   "language": "python",
   "name": "python3"
  },
  "language_info": {
   "codemirror_mode": {
    "name": "ipython",
    "version": 3
   },
   "file_extension": ".py",
   "mimetype": "text/x-python",
   "name": "python",
   "nbconvert_exporter": "python",
   "pygments_lexer": "ipython3",
   "version": "3.9.5"
  },
  "orig_nbformat": 4
 },
 "nbformat": 4,
 "nbformat_minor": 2
}
